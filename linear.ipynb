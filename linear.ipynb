{
 "cells": [
  {
   "cell_type": "code",
   "execution_count": 1,
   "id": "da6f8aa4",
   "metadata": {},
   "outputs": [],
   "source": [
    "import os\n",
    "import cv2\n",
    "import torch\n",
    "import numpy as np\n",
    "import matplotlib.pyplot as plt\n",
    "\n",
    "from torch.utils.data import Dataset, ConcatDataset, DataLoader\n",
    "from PIL import Image"
   ]
  },
  {
   "cell_type": "code",
   "execution_count": 2,
   "id": "0ee7ac66",
   "metadata": {},
   "outputs": [],
   "source": [
    "class MNIST(Dataset):\n",
    "    def __init__(self, dir: str, label: str):\n",
    "        self.dir = os.path.join(dir, label)\n",
    "        self.images = os.listdir(self.dir)\n",
    "        self.label = label\n",
    "\n",
    "    def __getitem__(self, index: int):\n",
    "        image_filename = self.images[index]\n",
    "        image_path = os.path.join(self.dir, image_filename)\n",
    "\n",
    "        image = cv2.imread(image_path, cv2.IMREAD_GRAYSCALE)\n",
    "        image = torch.tensor(image, dtype=torch.float32) / 255\n",
    "\n",
    "        return image, self.label\n",
    "    \n",
    "    def __len__(self):\n",
    "        return len(self.images)"
   ]
  },
  {
   "cell_type": "code",
   "execution_count": 3,
   "id": "3c81e89a",
   "metadata": {},
   "outputs": [
    {
     "name": "stdout",
     "output_type": "stream",
     "text": [
      "Number of train images: 60000\n",
      "Number of test images: 10000\n"
     ]
    }
   ],
   "source": [
    "train_dir = \"./MNIST/train/\"\n",
    "test_dir = \"./MNIST/test/\"\n",
    "\n",
    "labels = [\"0\", \"1\", \"2\", \"3\", \"4\", \"5\", \"6\", \"7\", \"8\", \"9\"]\n",
    "\n",
    "train_data = [MNIST(train_dir, label) for label in labels]\n",
    "train_data = ConcatDataset(train_data)\n",
    "\n",
    "test_data = [MNIST(test_dir, label) for label in labels]\n",
    "test_data = ConcatDataset(test_data)\n",
    "\n",
    "print(f\"Number of train images: {len(train_data)}\")\n",
    "print(f\"Number of test images: {len(test_data)}\")"
   ]
  },
  {
   "cell_type": "code",
   "execution_count": 4,
   "id": "b5d1f28a",
   "metadata": {},
   "outputs": [
    {
     "data": {
      "text/plain": [
       "(tensor([[0.0000, 0.0000, 0.0000, 0.0000, 0.0000, 0.0000, 0.0000, 0.0000, 0.0000,\n",
       "          0.0392, 0.0039, 0.0000, 0.0157, 0.0000, 0.0000, 0.0314, 0.0000, 0.0157,\n",
       "          0.0314, 0.0039, 0.0000, 0.0431, 0.0039, 0.0000, 0.0000, 0.0000, 0.0000,\n",
       "          0.0000],\n",
       "         [0.0000, 0.0000, 0.0000, 0.0000, 0.0000, 0.0000, 0.0000, 0.0000, 0.0471,\n",
       "          0.0000, 0.0000, 0.0706, 0.0000, 0.0000, 0.0784, 0.0000, 0.0431, 0.0000,\n",
       "          0.0000, 0.0078, 0.0353, 0.0000, 0.0000, 0.0353, 0.0000, 0.0000, 0.0000,\n",
       "          0.0000],\n",
       "         [0.0000, 0.0000, 0.0000, 0.0000, 0.0000, 0.0000, 0.0000, 0.0000, 0.0000,\n",
       "          0.0196, 0.0000, 0.0000, 0.0157, 0.0000, 0.0000, 0.0235, 0.0000, 0.0471,\n",
       "          0.0196, 0.0000, 0.0275, 0.0157, 0.0039, 0.0118, 0.0000, 0.0000, 0.0000,\n",
       "          0.0000],\n",
       "         [0.0000, 0.0000, 0.0000, 0.0000, 0.0000, 0.0000, 0.0000, 0.0000, 0.0039,\n",
       "          0.0000, 0.0235, 0.0235, 0.0000, 0.0000, 0.0000, 0.0000, 0.0196, 0.0000,\n",
       "          0.0000, 0.0510, 0.0000, 0.0000, 0.0275, 0.0000, 0.0000, 0.0000, 0.0000,\n",
       "          0.0000],\n",
       "         [0.0000, 0.0000, 0.0000, 0.0000, 0.0000, 0.0000, 0.0000, 0.0000, 0.0000,\n",
       "          0.0000, 0.0000, 0.0118, 0.0275, 0.0000, 0.0275, 0.2196, 0.6510, 1.0000,\n",
       "          0.6157, 0.2196, 0.0000, 0.0902, 0.0000, 0.0039, 0.0000, 0.0000, 0.0000,\n",
       "          0.0000],\n",
       "         [0.0000, 0.0000, 0.0000, 0.0000, 0.0000, 0.0000, 0.0000, 0.0000, 0.0000,\n",
       "          0.0824, 0.0000, 0.0000, 0.0275, 0.0000, 0.2314, 0.8627, 0.9176, 1.0000,\n",
       "          0.9843, 0.9647, 0.0196, 0.0000, 0.0275, 0.0000, 0.0000, 0.0000, 0.0000,\n",
       "          0.0000],\n",
       "         [0.0000, 0.0000, 0.0000, 0.0000, 0.0000, 0.0000, 0.0000, 0.0000, 0.0314,\n",
       "          0.0000, 0.0275, 0.0392, 0.0000, 0.2706, 0.7961, 1.0000, 1.0000, 0.9725,\n",
       "          0.8431, 0.9647, 0.2196, 0.0353, 0.0392, 0.0157, 0.0000, 0.0000, 0.0000,\n",
       "          0.0000],\n",
       "         [0.0000, 0.0000, 0.0000, 0.0000, 0.0000, 0.0000, 0.0000, 0.0000, 0.0000,\n",
       "          0.0000, 0.0000, 0.0157, 0.2784, 0.7922, 1.0000, 0.9451, 0.9804, 0.7216,\n",
       "          0.4157, 0.9961, 0.9961, 0.4902, 0.0000, 0.0000, 0.0000, 0.0000, 0.0000,\n",
       "          0.0000],\n",
       "         [0.0000, 0.0196, 0.0000, 0.0000, 0.0510, 0.0000, 0.0000, 0.0157, 0.0275,\n",
       "          0.0000, 0.0314, 0.6745, 0.9216, 1.0000, 1.0000, 1.0000, 1.0000, 0.9216,\n",
       "          0.4314, 0.7373, 0.9725, 0.6863, 0.0196, 0.0000, 0.0000, 0.0000, 0.0000,\n",
       "          0.0000],\n",
       "         [0.0000, 0.0196, 0.0000, 0.0000, 0.0157, 0.0000, 0.0000, 0.0078, 0.0235,\n",
       "          0.0157, 0.1961, 0.9373, 1.0000, 0.9529, 0.7412, 0.4118, 1.0000, 0.8980,\n",
       "          0.1569, 0.3137, 1.0000, 0.6196, 0.0275, 0.0000, 0.0000, 0.0000, 0.0000,\n",
       "          0.0000],\n",
       "         [0.0039, 0.0078, 0.0039, 0.0000, 0.0000, 0.0039, 0.0039, 0.0000, 0.0353,\n",
       "          0.1098, 0.9098, 1.0000, 0.9569, 0.7686, 0.0275, 0.3255, 0.4196, 0.1333,\n",
       "          0.0039, 0.0078, 1.0000, 0.9176, 0.2078, 0.0000, 0.0000, 0.0000, 0.0000,\n",
       "          0.0000],\n",
       "         [0.0000, 0.0000, 0.0157, 0.0000, 0.0000, 0.0157, 0.0000, 0.0000, 0.1412,\n",
       "          0.6745, 1.0000, 0.8706, 0.8549, 0.3255, 0.0000, 0.0000, 0.0275, 0.0000,\n",
       "          0.0000, 0.0000, 1.0000, 0.9843, 0.6510, 0.0000, 0.0000, 0.0000, 0.0000,\n",
       "          0.0000],\n",
       "         [0.0000, 0.0000, 0.0196, 0.0039, 0.0039, 0.0000, 0.0000, 0.0471, 0.6980,\n",
       "          0.9961, 0.8902, 0.3098, 0.0510, 0.0431, 0.0510, 0.0275, 0.0000, 0.0980,\n",
       "          0.0000, 0.0000, 1.0000, 0.9765, 0.7451, 0.0235, 0.0000, 0.0000, 0.0000,\n",
       "          0.0000],\n",
       "         [0.0078, 0.0000, 0.0157, 0.0000, 0.0039, 0.0000, 0.0000, 0.2824, 0.9961,\n",
       "          0.9725, 0.2471, 0.0588, 0.0000, 0.0784, 0.0118, 0.0000, 0.0000, 0.0000,\n",
       "          0.0000, 0.0392, 0.9647, 1.0000, 0.7137, 0.0235, 0.0000, 0.0000, 0.0000,\n",
       "          0.0000],\n",
       "         [0.0157, 0.0000, 0.0078, 0.0000, 0.0078, 0.0000, 0.1176, 0.6863, 0.9882,\n",
       "          0.7647, 0.0000, 0.0000, 0.0000, 0.0000, 0.0000, 0.1059, 0.0627, 0.0000,\n",
       "          0.0000, 0.0627, 0.9647, 0.9294, 0.8039, 0.0000, 0.0000, 0.0000, 0.0000,\n",
       "          0.0000],\n",
       "         [0.0118, 0.0000, 0.0039, 0.0000, 0.0157, 0.0000, 0.2510, 1.0000, 0.9961,\n",
       "          0.4235, 0.0392, 0.0000, 0.0078, 0.0392, 0.0000, 0.0000, 0.0000, 0.0157,\n",
       "          0.0706, 0.0000, 1.0000, 1.0000, 0.5294, 0.0000, 0.0000, 0.0000, 0.0000,\n",
       "          0.0000],\n",
       "         [0.0118, 0.0118, 0.0000, 0.0000, 0.0039, 0.0235, 0.3490, 0.9725, 0.9020,\n",
       "          0.1020, 0.0118, 0.0000, 0.0196, 0.0196, 0.0392, 0.0000, 0.0039, 0.0000,\n",
       "          0.0431, 0.5020, 0.9843, 0.7216, 0.0745, 0.0000, 0.0000, 0.0000, 0.0000,\n",
       "          0.0000],\n",
       "         [0.0039, 0.0000, 0.0157, 0.0275, 0.0118, 0.0000, 0.3098, 0.9961, 0.8745,\n",
       "          0.0588, 0.0000, 0.0000, 0.0118, 0.0000, 0.0000, 0.0039, 0.0275, 0.0000,\n",
       "          0.5176, 1.0000, 0.9176, 0.2510, 0.0000, 0.0078, 0.0000, 0.0000, 0.0000,\n",
       "          0.0000],\n",
       "         [0.0118, 0.0078, 0.0078, 0.0000, 0.0000, 0.0000, 0.3412, 1.0000, 0.5608,\n",
       "          0.0000, 0.0078, 0.0000, 0.0392, 0.0431, 0.0000, 0.0118, 0.1529, 0.7529,\n",
       "          0.9765, 0.5843, 0.0196, 0.0314, 0.0000, 0.0000, 0.0000, 0.0000, 0.0000,\n",
       "          0.0000],\n",
       "         [0.0000, 0.0196, 0.0157, 0.0000, 0.0000, 0.0235, 0.3569, 0.9686, 0.8549,\n",
       "          0.0941, 0.0000, 0.0000, 0.0000, 0.0000, 0.0549, 0.4353, 0.9176, 0.9922,\n",
       "          0.6549, 0.0000, 0.0157, 0.0000, 0.0000, 0.0000, 0.0000, 0.0000, 0.0000,\n",
       "          0.0000],\n",
       "         [0.0000, 0.0039, 0.0275, 0.0118, 0.0039, 0.0039, 0.3255, 0.9608, 0.9843,\n",
       "          0.4902, 0.2627, 0.0863, 0.3216, 0.7294, 0.8941, 0.9608, 0.8980, 0.6275,\n",
       "          0.2235, 0.0588, 0.0000, 0.0706, 0.0000, 0.0275, 0.0000, 0.0000, 0.0000,\n",
       "          0.0000],\n",
       "         [0.0118, 0.0000, 0.0000, 0.0235, 0.0078, 0.0000, 0.3216, 1.0000, 1.0000,\n",
       "          0.9255, 0.8980, 0.8784, 0.9765, 1.0000, 0.9529, 0.8039, 0.5216, 0.0235,\n",
       "          0.0000, 0.0000, 0.0627, 0.0000, 0.0157, 0.0000, 0.0000, 0.0000, 0.0000,\n",
       "          0.0000],\n",
       "         [0.0235, 0.0039, 0.0000, 0.0000, 0.0078, 0.0000, 0.1961, 0.7176, 0.9333,\n",
       "          1.0000, 0.9804, 0.9412, 0.9843, 0.9059, 0.5373, 0.0118, 0.0000, 0.0157,\n",
       "          0.0431, 0.0549, 0.0000, 0.0235, 0.0000, 0.0275, 0.0000, 0.0000, 0.0000,\n",
       "          0.0000],\n",
       "         [0.0000, 0.0314, 0.0196, 0.0000, 0.0392, 0.0157, 0.0000, 0.1255, 0.5686,\n",
       "          0.9255, 1.0000, 0.9804, 0.5922, 0.1255, 0.0314, 0.0000, 0.0000, 0.0000,\n",
       "          0.0196, 0.0000, 0.0000, 0.0275, 0.0118, 0.0000, 0.0000, 0.0000, 0.0000,\n",
       "          0.0000],\n",
       "         [0.0000, 0.0000, 0.0000, 0.0000, 0.0000, 0.0000, 0.0000, 0.0000, 0.0000,\n",
       "          0.0000, 0.0000, 0.0000, 0.0000, 0.0000, 0.0000, 0.0000, 0.0000, 0.0000,\n",
       "          0.0000, 0.0000, 0.0000, 0.0000, 0.0000, 0.0000, 0.0000, 0.0000, 0.0000,\n",
       "          0.0000],\n",
       "         [0.0000, 0.0000, 0.0000, 0.0000, 0.0000, 0.0000, 0.0000, 0.0000, 0.0000,\n",
       "          0.0000, 0.0000, 0.0000, 0.0000, 0.0000, 0.0000, 0.0000, 0.0000, 0.0000,\n",
       "          0.0000, 0.0000, 0.0000, 0.0000, 0.0000, 0.0000, 0.0000, 0.0000, 0.0000,\n",
       "          0.0000],\n",
       "         [0.0000, 0.0000, 0.0000, 0.0000, 0.0000, 0.0000, 0.0000, 0.0000, 0.0000,\n",
       "          0.0000, 0.0000, 0.0000, 0.0000, 0.0000, 0.0000, 0.0000, 0.0000, 0.0000,\n",
       "          0.0000, 0.0000, 0.0000, 0.0000, 0.0000, 0.0000, 0.0000, 0.0000, 0.0000,\n",
       "          0.0000],\n",
       "         [0.0000, 0.0000, 0.0000, 0.0000, 0.0000, 0.0000, 0.0000, 0.0000, 0.0000,\n",
       "          0.0000, 0.0000, 0.0000, 0.0000, 0.0000, 0.0000, 0.0000, 0.0000, 0.0000,\n",
       "          0.0000, 0.0000, 0.0000, 0.0000, 0.0000, 0.0000, 0.0000, 0.0000, 0.0000,\n",
       "          0.0000]]),\n",
       " '0')"
      ]
     },
     "execution_count": 4,
     "metadata": {},
     "output_type": "execute_result"
    }
   ],
   "source": [
    "train_data[0]"
   ]
  },
  {
   "cell_type": "code",
   "execution_count": 5,
   "id": "9075be3c",
   "metadata": {},
   "outputs": [
    {
     "data": {
      "image/png": "[encoded data removed]",
      "text/plain": [
       "<Figure size 500x500 with 1 Axes>"
      ]
     },
     "metadata": {},
     "output_type": "display_data"
    }
   ],
   "source": [
    "image = Image.fromarray(train_data[0][0].numpy() * 255)\n",
    "\n",
    "fig = plt.figure(figsize=(5, 5))\n",
    "ax = fig.add_subplot(1, 1, 1)\n",
    "ax.imshow(image, cmap=\"gray\")\n",
    "ax.get_xaxis().set_visible(False)\n",
    "ax.get_yaxis().set_visible(False)"
   ]
  },
  {
   "cell_type": "code",
   "execution_count": 6,
   "id": "5e7a2ded",
   "metadata": {},
   "outputs": [],
   "source": [
    "class Autoencoder(torch.nn.Module):\n",
    "    def __init__(self, input_dimension, code_dimension):\n",
    "        super().__init__()\n",
    "        self.encoder = torch.nn.Sequential(\n",
    "            torch.nn.Linear(input_dimension, code_dimension), \n",
    "            torch.nn.ReLU(),\n",
    "        )\n",
    "        self.decoder = torch.nn.Sequential(\n",
    "            torch.nn.Linear(code_dimension, input_dimension),\n",
    "            torch.nn.Sigmoid(),\n",
    "        )\n",
    "\n",
    "    def forward(self, x):\n",
    "        out = self.encoder(x)\n",
    "        out = self.decoder(out)\n",
    "        \n",
    "        return out"
   ]
  },
  {
   "cell_type": "code",
   "execution_count": 7,
   "id": "327acf1e",
   "metadata": {},
   "outputs": [
    {
     "data": {
      "text/plain": [
       "device(type='cuda')"
      ]
     },
     "execution_count": 7,
     "metadata": {},
     "output_type": "execute_result"
    }
   ],
   "source": [
    "device = torch.device(\"cuda\" if torch.cuda.is_available() else \"cpu\")\n",
    "device"
   ]
  },
  {
   "cell_type": "code",
   "execution_count": 8,
   "id": "d6b0a980",
   "metadata": {},
   "outputs": [
    {
     "name": "stdout",
     "output_type": "stream",
     "text": [
      "Epoch: 1, Loss: 0.8652\n",
      "Epoch: 2, Loss: 0.2960\n",
      "Epoch: 3, Loss: 0.2319\n",
      "Epoch: 4, Loss: 0.2157\n",
      "Epoch: 5, Loss: 0.2091\n",
      "Epoch: 6, Loss: 0.2053\n",
      "Epoch: 7, Loss: 0.2027\n",
      "Epoch: 8, Loss: 0.2010\n",
      "Epoch: 9, Loss: 0.1996\n",
      "Epoch: 10, Loss: 0.1983\n"
     ]
    }
   ],
   "source": [
    "train_loader = DataLoader(train_data, batch_size=32, shuffle=True)\n",
    "test_loader = DataLoader(test_data, batch_size=32, shuffle=True)\n",
    "\n",
    "input_dimension = 28 * 28\n",
    "code_dimension = 8 * 8\n",
    "model = Autoencoder(input_dimension, code_dimension).to(device)\n",
    "\n",
    "criterion = torch.nn.MSELoss()\n",
    "optimizer = torch.optim.Adam(model.parameters(), lr=0.001)\n",
    "\n",
    "n_epochs = 10\n",
    "\n",
    "for epoch in range(n_epochs):\n",
    "    model.train()\n",
    "\n",
    "    train_loss = 0.0\n",
    "\n",
    "    for images, labels in train_loader:\n",
    "        images = images.view(images.size(0), -1).to(device)\n",
    "\n",
    "        optimizer.zero_grad()\n",
    "\n",
    "        outputs = model(images)\n",
    "\n",
    "        loss = criterion(outputs, images)\n",
    "        loss.backward()\n",
    "\n",
    "        optimizer.step()\n",
    "\n",
    "        train_loss += loss.item() * images.size(0)\n",
    "\n",
    "    train_loss = train_loss / len(train_loader)\n",
    "    \n",
    "    print(f\"Epoch: {epoch + 1}, Loss: {train_loss:.4f}\")\n"
   ]
  },
  {
   "cell_type": "code",
   "execution_count": 9,
   "id": "59bda1d0",
   "metadata": {},
   "outputs": [
    {
     "data": {
      "image/png": "[encoded data removed]",
      "text/plain": [
       "<Figure size 2500x400 with 20 Axes>"
      ]
     },
     "metadata": {},
     "output_type": "display_data"
    }
   ],
   "source": [
    "images, labels = next(iter(test_loader))\n",
    "input = images.view(images.size(0), -1)\n",
    "output = model(input.to(device))\n",
    "output = output.view(images.shape[0], 1, 28, 28)\n",
    "output = output.detach().cpu().numpy()\n",
    "\n",
    "images = images.numpy()\n",
    "\n",
    "fig, axes = plt.subplots(nrows=2, ncols=10, sharex=True, sharey=True, figsize=(25, 4))\n",
    "\n",
    "for images, row in zip([images, output], axes):\n",
    "    for img, ax in zip(images[:10], row):\n",
    "        ax.imshow(np.squeeze(img), cmap=\"gray\")\n",
    "        ax.get_xaxis().set_visible(False)\n",
    "        ax.get_yaxis().set_visible(False)"
   ]
  },
  {
   "cell_type": "code",
   "execution_count": null,
   "id": "0ceca462",
   "metadata": {},
   "outputs": [],
   "source": []
  }
 ],
 "metadata": {
  "kernelspec": {
   "display_name": ".venv",
   "language": "python",
   "name": "python3"
  },
  "language_info": {
   "codemirror_mode": {
    "name": "ipython",
    "version": 3
   },
   "file_extension": ".py",
   "mimetype": "text/x-python",
   "name": "python",
   "nbconvert_exporter": "python",
   "pygments_lexer": "ipython3",
   "version": "3.10.11"
  }
 },
 "nbformat": 4,
 "nbformat_minor": 5
}
