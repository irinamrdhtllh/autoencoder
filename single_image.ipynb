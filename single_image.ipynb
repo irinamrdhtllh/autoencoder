{
 "cells": [
  {
   "cell_type": "code",
   "execution_count": 1,
   "id": "15b56094",
   "metadata": {},
   "outputs": [],
   "source": [
    "import numpy as np\n",
    "from PIL import Image"
   ]
  },
  {
   "cell_type": "code",
   "execution_count": 2,
   "id": "9729cdb8",
   "metadata": {},
   "outputs": [
    {
     "data": {
      "text/plain": [
       "(28, 28)"
      ]
     },
     "execution_count": 2,
     "metadata": {},
     "output_type": "execute_result"
    }
   ],
   "source": [
    "image = Image.open(\"MNIST/train/0/21.jpg\")\n",
    "np.array(image).shape"
   ]
  },
  {
   "cell_type": "code",
   "execution_count": 3,
   "id": "d33382dd",
   "metadata": {},
   "outputs": [],
   "source": [
    "X = np.array(image).flatten().reshape(-1, 1) / 255.0\n",
    "\n",
    "d = X.shape[0]\n",
    "k = d // 20\n",
    "\n",
    "W_e = np.random.randn(k, d) * 0.01\n",
    "W_d = np.random.randn(d, k) * 0.01"
   ]
  },
  {
   "cell_type": "code",
   "execution_count": 4,
   "id": "d1cfb435",
   "metadata": {},
   "outputs": [
    {
     "name": "stdout",
     "output_type": "stream",
     "text": [
      "Iteration: 1, Loss: 118.0677\n",
      "Iteration: 2, Loss: 117.4402\n",
      "Iteration: 3, Loss: 116.6906\n",
      "Iteration: 4, Loss: 115.6778\n",
      "Iteration: 5, Loss: 114.2314\n",
      "Iteration: 6, Loss: 112.1274\n",
      "Iteration: 7, Loss: 109.0664\n",
      "Iteration: 8, Loss: 104.6607\n",
      "Iteration: 9, Loss: 98.4445\n",
      "Iteration: 10, Loss: 89.9405\n",
      "Iteration: 11, Loss: 78.8211\n",
      "Iteration: 12, Loss: 65.1891\n",
      "Iteration: 13, Loss: 49.8973\n",
      "Iteration: 14, Loss: 34.6454\n",
      "Iteration: 15, Loss: 21.5049\n",
      "Iteration: 16, Loss: 11.9331\n",
      "Iteration: 17, Loss: 6.0576\n",
      "Iteration: 18, Loss: 2.9443\n",
      "Iteration: 19, Loss: 1.4434\n",
      "Iteration: 20, Loss: 0.7394\n",
      "Iteration: 21, Loss: 0.3989\n",
      "Iteration: 22, Loss: 0.2244\n",
      "Iteration: 23, Loss: 0.1296\n",
      "Iteration: 24, Loss: 0.0761\n",
      "Iteration: 25, Loss: 0.0451\n",
      "Iteration: 26, Loss: 0.0268\n",
      "Iteration: 27, Loss: 0.0160\n",
      "Iteration: 28, Loss: 0.0095\n",
      "Iteration: 29, Loss: 0.0057\n",
      "Iteration: 30, Loss: 0.0034\n",
      "Iteration: 31, Loss: 0.0020\n",
      "Iteration: 32, Loss: 0.0012\n",
      "Iteration: 33, Loss: 0.0007\n",
      "Iteration: 34, Loss: 0.0004\n",
      "Iteration: 35, Loss: 0.0003\n",
      "Iteration: 36, Loss: 0.0002\n",
      "Iteration: 37, Loss: 0.0001\n"
     ]
    }
   ],
   "source": [
    "eta = 1e-3\n",
    "i = 1\n",
    "while True:\n",
    "    X_hat = W_d @ W_e @ X\n",
    "    error = X - X_hat\n",
    "    loss = np.sum(error**2)\n",
    "    print(f\"Iteration: {i}, Loss: {loss:.4f}\")\n",
    "\n",
    "    if loss <= 1e-4:\n",
    "        break\n",
    "\n",
    "    grad_W_e = -2 * W_d.T @ error @ X.T\n",
    "    grad_W_d = -2 * error @ (W_e @ X).T\n",
    "\n",
    "    W_e -= eta * grad_W_e\n",
    "    W_d -= eta * grad_W_d\n",
    "\n",
    "    i += 1"
   ]
  },
  {
   "cell_type": "code",
   "execution_count": 5,
   "id": "d6d88575",
   "metadata": {},
   "outputs": [
    {
     "data": {
      "image/jpeg": "[encoded data removed]",
      "image/png": "[encoded data removed]",
      "text/plain": [
       "<PIL.Image.Image image mode=L size=28x28>"
      ]
     },
     "execution_count": 5,
     "metadata": {},
     "output_type": "execute_result"
    }
   ],
   "source": [
    "X_hat = W_d @ W_e @ X\n",
    "reconstructed_image = X_hat.reshape(28, 28)\n",
    "reconstructed_image = np.clip(reconstructed_image * 255, 0, 255).astype(np.uint8)\n",
    "reconstructed_image = Image.fromarray(reconstructed_image)\n",
    "reconstructed_image"
   ]
  },
  {
   "cell_type": "code",
   "execution_count": 6,
   "id": "0e6767b2",
   "metadata": {
    "scrolled": true
   },
   "outputs": [
    {
     "data": {
      "image/jpeg": "[encoded data removed]",
      "image/png": "[encoded data removed]",
      "text/plain": [
       "<PIL.JpegImagePlugin.JpegImageFile image mode=L size=28x28>"
      ]
     },
     "execution_count": 6,
     "metadata": {},
     "output_type": "execute_result"
    }
   ],
   "source": [
    "image = Image.open(\"./MNIST/train/0/37.jpg\")\n",
    "# image = image.convert(\"L\")\n",
    "image"
   ]
  },
  {
   "cell_type": "code",
   "execution_count": 7,
   "id": "ddcb71ee",
   "metadata": {},
   "outputs": [
    {
     "data": {
      "image/jpeg": "[encoded data removed]",
      "image/png": "[encoded data removed]",
      "text/plain": [
       "<PIL.Image.Image image mode=L size=28x28>"
      ]
     },
     "execution_count": 7,
     "metadata": {},
     "output_type": "execute_result"
    }
   ],
   "source": [
    "X = np.array(image).flatten().reshape(-1, 1) / 255.0\n",
    "X_hat = W_d @ W_e @ X\n",
    "reconstructed_image = X_hat.reshape(28, 28)\n",
    "reconstructed_image = np.clip(reconstructed_image * 255, 0, 255).astype(np.uint8)\n",
    "reconstructed_image = Image.fromarray(reconstructed_image)\n",
    "reconstructed_image"
   ]
  },
  {
   "cell_type": "code",
   "execution_count": null,
   "id": "031d669a",
   "metadata": {},
   "outputs": [],
   "source": []
  }
 ],
 "metadata": {
  "kernelspec": {
   "display_name": ".venv",
   "language": "python",
   "name": "python3"
  },
  "language_info": {
   "codemirror_mode": {
    "name": "ipython",
    "version": 3
   },
   "file_extension": ".py",
   "mimetype": "text/x-python",
   "name": "python",
   "nbconvert_exporter": "python",
   "pygments_lexer": "ipython3",
   "version": "3.10.11"
  }
 },
 "nbformat": 4,
 "nbformat_minor": 5
}
